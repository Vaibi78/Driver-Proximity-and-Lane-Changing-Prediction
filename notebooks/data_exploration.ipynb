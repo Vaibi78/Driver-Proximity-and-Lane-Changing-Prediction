#This file is to use Jupyter notebook for initial data analysis
# 1. Import libraries
import pandas as pd
import matplotlib.pyplot as plt
import seaborn as sns

# 2. Load the data
data = pd.read_csv('data/traffic_data.csv')

# 3. Explore the data
print(data.head())
print(data.describe())

# 4. Visualize the data
sns.pairplot(data, hue='Lane_Change')
plt.show()

# 5. Simple Model train in the notebook to explore

from sklearn.model_selection import train_test_split
from sklearn.linear_model import LogisticRegression
from sklearn.metrics import accuracy_score

# 6. Prepare the data
X = data[['Distance_Main_Next_Lane', 'Relative_Speed']]
y = data['Lane_Change']

# 7. Split the data into training and testing sets
X_train, X_test, y_train, y_test = train_test_split(X, y, test_size=0.2, random_state=42)

# 8. Train the model (Logistic Regression)
model = LogisticRegression()
model.fit(X_train, y_train)

# 9. Evaluate the model
y_pred = model.predict(X_test)
accuracy = accuracy_score(y_test, y_pred)
print(f"Accuracy: {accuracy}")
